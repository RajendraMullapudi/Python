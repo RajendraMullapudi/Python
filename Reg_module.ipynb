{
 "cells": [
  {
   "cell_type": "code",
   "execution_count": 2,
   "id": "f024b81d",
   "metadata": {},
   "outputs": [
    {
     "name": "stdout",
     "output_type": "stream",
     "text": [
      "The number of students: 0\n"
     ]
    }
   ],
   "source": [
    "class Student:    \n",
    "    count = 0    \n",
    "    def __init__(self):    \n",
    "        self.count = self.count + 1\n",
    "s1=Student()    \n",
    "s2=Student()    \n",
    "s3=Student()    \n",
    "print(\"The number of students:\",Student.count)   "
   ]
  },
  {
   "cell_type": "code",
   "execution_count": 4,
   "id": "4e9fb7f8",
   "metadata": {},
   "outputs": [],
   "source": [
    "import re"
   ]
  },
  {
   "cell_type": "code",
   "execution_count": 8,
   "id": "ade01140",
   "metadata": {},
   "outputs": [
    {
     "name": "stdout",
     "output_type": "stream",
     "text": [
      "Start Index: 43\n",
      "end Index  : 47\n"
     ]
    }
   ],
   "source": [
    "import re\n",
    "s='It can detect the presence or absence of a text by matching it with a particular pattern and also can split a pattern into one or more sub-patterns.'\n",
    "match=re.search(r'text',s)                   #r stands for raw not regex\n",
    "print(\"Start Index:\",match.start())\n",
    "print(\"end Index  :\",match.end())"
   ]
  },
  {
   "cell_type": "markdown",
   "id": "ddaf910c",
   "metadata": {},
   "source": [
    "# Using backslash"
   ]
  },
  {
   "cell_type": "code",
   "execution_count": 9,
   "id": "43136961",
   "metadata": {},
   "outputs": [
    {
     "name": "stdout",
     "output_type": "stream",
     "text": [
      "<re.Match object; span=(0, 1), match='I'>\n",
      "<re.Match object; span=(147, 148), match='.'>\n"
     ]
    }
   ],
   "source": [
    "import re\n",
    "s='It can detect the presence or absence of a text by matching it with a particular pattern and also can split a pattern into one or more sub-patterns.'\n",
    "match=re.search(r'.', s)\n",
    "print(match)\n",
    "match=re.search(r'\\.',s)\n",
    "print(match)"
   ]
  },
  {
   "cell_type": "code",
   "execution_count": 17,
   "id": "699c93d3",
   "metadata": {},
   "outputs": [
    {
     "name": "stdout",
     "output_type": "stream",
     "text": [
      "['I', ' ', ' ', ' ', ' ', ' ', ' ', ' ', ' ', ' ', ' ', ' ', ' ', ' ', ' ', ' ', ' ', ' ', ' ', ' ', ' ', ' ', ' ', ' ', ' ', ' ', ' ', ' ', '-', '.']\n",
      "['I']\n"
     ]
    }
   ],
   "source": [
    "import re\n",
    "s='It can detect the presence or absence of a text by matching it with a particular pattern and also can split a pattern into one or more sub-patterns.'\n",
    "pattern=\"[^a-z]\"\n",
    "match=re.findall(pattern,s)\n",
    "print(match)\n",
    "pattern=\"[A-M]\"\n",
    "match=re.findall(pattern,s)\n",
    "print(match)"
   ]
  },
  {
   "cell_type": "code",
   "execution_count": 14,
   "id": "2c1b112e",
   "metadata": {},
   "outputs": [
    {
     "name": "stdout",
     "output_type": "stream",
     "text": [
      "Matched: The quick brown fox\n",
      "Matched: The lazy dog\n",
      "Not matched: A quick brown fox\n"
     ]
    }
   ],
   "source": [
    "import re \n",
    "regex = r'^The'\n",
    "strings = ['The quick brown fox', 'The lazy dog', 'A quick brown fox'] \n",
    "for string in strings: \n",
    "    if re.match(regex, string): \n",
    "        print(f'Matched: {string}') \n",
    "    else: \n",
    "        print(f'Not matched: {string}')\n"
   ]
  },
  {
   "cell_type": "code",
   "execution_count": 28,
   "id": "03e1666f",
   "metadata": {},
   "outputs": [
    {
     "name": "stdout",
     "output_type": "stream",
     "text": [
      "match\n"
     ]
    }
   ],
   "source": [
    "import re\n",
    "s=\"The quick brown fox\"\n",
    "pattern=r\"fox$\"\n",
    "match=re.search(pattern,s)\n",
    "if match:\n",
    "    print(\"match\")\n",
    "else:\n",
    "    print(\"No Match\")"
   ]
  },
  {
   "cell_type": "code",
   "execution_count": 31,
   "id": "6c071036",
   "metadata": {},
   "outputs": [
    {
     "name": "stdout",
     "output_type": "stream",
     "text": [
      "Match found!\n"
     ]
    }
   ],
   "source": [
    "import re \n",
    "\n",
    "string = \"It can detect the presence or absence of a text by matching it with a particular pattern and also can split a pattern into one or more sub-patterns.\"\n",
    "pattern = r\"it.with\"\n",
    "\n",
    "match = re.search(pattern, string) \n",
    "if match: \n",
    "\tprint(\"Match found!\") \n",
    "else: \n",
    "\tprint(\"Match not found.\")"
   ]
  },
  {
   "cell_type": "code",
   "execution_count": 34,
   "id": "34411802",
   "metadata": {},
   "outputs": [
    {
     "name": "stdout",
     "output_type": "stream",
     "text": [
      "re.compile('[A-Za-z0-9]+')\n",
      "Enter the string: raj678\n",
      "'raj678' is an alphanumeric string!\n"
     ]
    }
   ],
   "source": [
    "import re\n",
    "\n",
    "# compiling the pattern for alphanumeric string\n",
    "pat = re.compile(r\"[A-Za-z0-9]+\")\n",
    "print(pat)\n",
    "# Prompts the user for input string\n",
    "test = input(\"Enter the string: \")\n",
    "\n",
    "# Checks whether the whole string matches the re.pattern or not\n",
    "if re.fullmatch(pat, test):\n",
    "\tprint(f\"'{test}' is an alphanumeric string!\")\n",
    "else:\n",
    "\tprint(f\"'{test}' is NOT a alphanumeric string!\")\n"
   ]
  },
  {
   "cell_type": "code",
   "execution_count": 47,
   "id": "a180b7a9",
   "metadata": {},
   "outputs": [
    {
     "name": "stdout",
     "output_type": "stream",
     "text": [
      "Enter the string:djfs\n",
      "'djfs' is not a valid gmail\n"
     ]
    }
   ],
   "source": [
    "import re\n",
    "pattern = re.compile(r'\\b[A-Za-z0-9._+-]+@[A-Za-z0-9.+-]+\\.[A-Z|a-z]{2-7}\\b')\n",
    "test = input(\"Enter the string:\")\n",
    "if re.fullmatch(pattern,test):\n",
    "    print(f\"''{test}' is a valid gmail\")\n",
    "else:\n",
    "    print(f\"'{test}' is not a valid gmail\")"
   ]
  },
  {
   "cell_type": "code",
   "execution_count": 43,
   "id": "785fea99",
   "metadata": {},
   "outputs": [
    {
     "name": "stdout",
     "output_type": "stream",
     "text": [
      "Enter a string:rama The\n",
      "no\n"
     ]
    }
   ],
   "source": [
    "import re\n",
    "pattern = '\\AThe'\n",
    "sentence = input(\"Enter a string:\")\n",
    "if re.search(pattern,sentence):\n",
    "    print(\"match\")\n",
    "else:\n",
    "    print(\"no\")\n"
   ]
  },
  {
   "cell_type": "code",
   "execution_count": 11,
   "id": "6aa1e6e9",
   "metadata": {},
   "outputs": [
    {
     "name": "stdout",
     "output_type": "stream",
     "text": [
      "<re.Match object; span=(2, 4), match='99'>\n",
      "<re.Match object; span=(5, 9), match='1234'>\n"
     ]
    }
   ],
   "source": [
    "import re \n",
    "\n",
    "print(re.search(r\"9+\",\"289908\")) \n",
    "print(re.search(r\"\\d+\",\"hello1234\")) \n"
   ]
  },
  {
   "cell_type": "code",
   "execution_count": 54,
   "id": "72c83ee5",
   "metadata": {},
   "outputs": [
    {
     "name": "stdout",
     "output_type": "stream",
     "text": [
      "['H', 'e', 's', 'a', 'i', 'd', 'i', 'n', 's', 'o', 'm', 'e', '_', 'l', 'a', 'n', 'g']\n",
      "['I', 'went', 'to', 'him', 'at', '11', 'A', 'M', 'he', 'said', 'in', 'some_language']\n",
      "[' ', ' ', '*', '*', '*', ' ', ' ', '.']\n"
     ]
    }
   ],
   "source": [
    "import re \n",
    "\n",
    "p = re.compile('\\w') \n",
    "print(p.findall(\"He said * in some_lang.\")) \n",
    "\n",
    "p = re.compile('\\w+')\n",
    "print(p.findall(\"I went to him at 11 A.M., he \\\n",
    "said *** in some_language.\")) \n",
    "\n",
    "p = re.compile('\\W') \n",
    "print(p.findall(\"he said *** in some_language.\")) \n"
   ]
  },
  {
   "cell_type": "code",
   "execution_count": 65,
   "id": "5d7856c9",
   "metadata": {},
   "outputs": [
    {
     "name": "stdout",
     "output_type": "stream",
     "text": [
      "Match not found.\n"
     ]
    }
   ],
   "source": [
    "import re \n",
    "\n",
    "string = \"The quick brownfox jumps over the lazy dog.\"\n",
    "pattern = r\"brown.fox\"\n",
    "\n",
    "match = re.match(pattern, string) \n",
    "if match: \n",
    "\tprint(\"Match found!\") \n",
    "else: \n",
    "\tprint(\"Match not found.\") \n"
   ]
  },
  {
   "cell_type": "code",
   "execution_count": 72,
   "id": "819cf89d",
   "metadata": {},
   "outputs": [
    {
     "name": "stdout",
     "output_type": "stream",
     "text": [
      "Match found: 6\n"
     ]
    }
   ],
   "source": [
    "import re\n",
    "\n",
    "pattern = r'6$'\n",
    "text = 'abcdef456'\n",
    "\n",
    "# Using re.search\n",
    "search = re.search(pattern, text)\n",
    "\n",
    "if search:\n",
    "    print(\"Match found:\", search.group())\n",
    "else:\n",
    "    print(\"No match found\")\n"
   ]
  },
  {
   "cell_type": "markdown",
   "id": "eeae8e16",
   "metadata": {},
   "source": [
    "import re\n",
    "sentence = \"the word:cat!!\"\n",
    "pattern = \"word:\"\n",
    "match = re.search(pattern, sentence)\n",
    "if match:\n"
   ]
  },
  {
   "cell_type": "code",
   "execution_count": 13,
   "id": "b097320f",
   "metadata": {},
   "outputs": [
    {
     "name": "stdout",
     "output_type": "stream",
     "text": [
      "rajendramullapudi124@gmail.com\n"
     ]
    }
   ],
   "source": [
    "import re\n",
    "sentence = \"this is rajendramullapudi124@gmail.com\"\n",
    "pattern = \"[\\w.-]+@[\\w.-]+\"\n",
    "match = re.search(pattern, sentence)\n",
    "if match:\n",
    "    print(match.group())\n",
    "else:\n",
    "    print(\"not found\")"
   ]
  },
  {
   "cell_type": "code",
   "execution_count": null,
   "id": "8520d17c",
   "metadata": {},
   "outputs": [],
   "source": []
  }
 ],
 "metadata": {
  "kernelspec": {
   "display_name": "Python 3 (ipykernel)",
   "language": "python",
   "name": "python3"
  },
  "language_info": {
   "codemirror_mode": {
    "name": "ipython",
    "version": 3
   },
   "file_extension": ".py",
   "mimetype": "text/x-python",
   "name": "python",
   "nbconvert_exporter": "python",
   "pygments_lexer": "ipython3",
   "version": "3.9.12"
  }
 },
 "nbformat": 4,
 "nbformat_minor": 5
}
