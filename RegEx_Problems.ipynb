{
 "cells": [
  {
   "cell_type": "markdown",
   "id": "ca0b22ac",
   "metadata": {},
   "source": [
    "##  1) Write a Python program to check that a string contains only a certain set of characters (in this case a-z, A-Z and 0-9)."
   ]
  },
  {
   "cell_type": "code",
   "execution_count": 2,
   "id": "d5a487e5",
   "metadata": {},
   "outputs": [],
   "source": [
    "import re"
   ]
  },
  {
   "cell_type": "code",
   "execution_count": 5,
   "id": "f8f21e4c",
   "metadata": {},
   "outputs": [
    {
     "name": "stdout",
     "output_type": "stream",
     "text": [
      "{}[];'\n",
      "False\n"
     ]
    }
   ],
   "source": [
    "import re\n",
    "def check(string):\n",
    "    pattern = re.compile(r'[a-zA-Z)-9]')\n",
    "    if re.search(pattern,string):\n",
    "        return True\n",
    "    else:\n",
    "        return False\n",
    "string=input()\n",
    "print(check(string))"
   ]
  },
  {
   "cell_type": "code",
   "execution_count": null,
   "id": "5a482d18",
   "metadata": {},
   "outputs": [],
   "source": [
    "#2) Write a Python program that matches a string that has an a followed by zero or more b's"
   ]
  },
  {
   "cell_type": "code",
   "execution_count": 14,
   "id": "af361ebc",
   "metadata": {},
   "outputs": [
    {
     "name": "stdout",
     "output_type": "stream",
     "text": [
      "wfhfo;qwlkbbbb\n",
      "found\n"
     ]
    }
   ],
   "source": [
    "import re\n",
    "string = input()\n",
    "match=re.search('b*',string)\n",
    "if match:\n",
    "    print(\"found\")\n",
    "else:\n",
    "    print(\"not found\")"
   ]
  },
  {
   "cell_type": "code",
   "execution_count": 15,
   "id": "01e7ddfe",
   "metadata": {},
   "outputs": [],
   "source": [
    "#3) Write a Python program that matches a string that has an a followed by one or more b's"
   ]
  },
  {
   "cell_type": "code",
   "execution_count": 20,
   "id": "7bb7e68d",
   "metadata": {},
   "outputs": [
    {
     "name": "stdout",
     "output_type": "stream",
     "text": [
      "bfljgher\n",
      "not found\n"
     ]
    }
   ],
   "source": [
    "import re\n",
    "string = input()\n",
    "match=re.search('ab+',string)\n",
    "if match:\n",
    "    print(\"found\")\n",
    "else:\n",
    "    print(\"not found\")"
   ]
  },
  {
   "cell_type": "code",
   "execution_count": 21,
   "id": "48afcdf9",
   "metadata": {},
   "outputs": [],
   "source": [
    "#4) Write a Python program that matches a string that has an a followed by zero or one 'b'"
   ]
  },
  {
   "cell_type": "code",
   "execution_count": 26,
   "id": "4394c8fb",
   "metadata": {},
   "outputs": [
    {
     "name": "stdout",
     "output_type": "stream",
     "text": [
      "klj\n",
      "not found\n"
     ]
    }
   ],
   "source": [
    "string = input()\n",
    "match=re.search('ab?',string)\n",
    "if match:\n",
    "    print(\"found\")\n",
    "else:\n",
    "    print(\"not found\")"
   ]
  },
  {
   "cell_type": "code",
   "execution_count": 24,
   "id": "bd59683b",
   "metadata": {},
   "outputs": [
    {
     "name": "stdout",
     "output_type": "stream",
     "text": [
      "Found a match!\n",
      "Found a match!\n",
      "Found a match!\n",
      "Found a match!\n"
     ]
    }
   ],
   "source": [
    "def text_match(text):\n",
    "        patterns = 'ab?'\n",
    "        if re.search(patterns,  text):\n",
    "                return 'Found a match!'\n",
    "        else:\n",
    "                return('Not matched!')\n",
    "\n",
    "print(text_match(\"ab\"))\n",
    "print(text_match(\"abc\"))\n",
    "print(text_match(\"abbc\"))\n",
    "print(text_match(\"aabbc\"))"
   ]
  },
  {
   "cell_type": "code",
   "execution_count": 27,
   "id": "197264cb",
   "metadata": {},
   "outputs": [],
   "source": [
    "#5) Write a Python program that matches a string that has an a followed by three 'b'"
   ]
  },
  {
   "cell_type": "code",
   "execution_count": 29,
   "id": "d528d6f4",
   "metadata": {},
   "outputs": [
    {
     "name": "stdout",
     "output_type": "stream",
     "text": [
      "abb\n",
      "not found\n"
     ]
    }
   ],
   "source": [
    "string = input()\n",
    "match=re.search('ab{3}',string)\n",
    "if match:\n",
    "    print(\"found\")\n",
    "else:\n",
    "    print(\"not found\")"
   ]
  },
  {
   "cell_type": "code",
   "execution_count": 30,
   "id": "aa07a42d",
   "metadata": {},
   "outputs": [],
   "source": [
    "#6) Write a Python program that matches a string that has an a followed by two to three 'b'."
   ]
  },
  {
   "cell_type": "code",
   "execution_count": 33,
   "id": "f1e0aa6c",
   "metadata": {},
   "outputs": [
    {
     "name": "stdout",
     "output_type": "stream",
     "text": [
      "abfkdjfe\n",
      "not found\n"
     ]
    }
   ],
   "source": [
    "string = input()\n",
    "match=re.search('ab{2,3}',string)\n",
    "if match:\n",
    "    print(\"found\")\n",
    "else:\n",
    "    print(\"not found\")"
   ]
  },
  {
   "cell_type": "code",
   "execution_count": 34,
   "id": "7535f100",
   "metadata": {},
   "outputs": [],
   "source": [
    "#7) Write a Python program to find sequences of lowercase letters joined with a underscore."
   ]
  },
  {
   "cell_type": "code",
   "execution_count": 39,
   "id": "bcda9d05",
   "metadata": {},
   "outputs": [
    {
     "name": "stdout",
     "output_type": "stream",
     "text": [
      "djcwcALJHCJ_cdkjch\n",
      "not found\n"
     ]
    }
   ],
   "source": [
    "string = input()\n",
    "pattern = '[a-z]_'\n",
    "match=re.search(pattern,string)\n",
    "if match:\n",
    "    print(\"found\")\n",
    "else:\n",
    "    print(\"not found\")"
   ]
  },
  {
   "cell_type": "code",
   "execution_count": 40,
   "id": "c53628ee",
   "metadata": {},
   "outputs": [],
   "source": [
    "#8) Write a Python program to find the sequences of one upper case letter followed by lower case letters."
   ]
  },
  {
   "cell_type": "code",
   "execution_count": 44,
   "id": "4df296ff",
   "metadata": {},
   "outputs": [
    {
     "name": "stdout",
     "output_type": "stream",
     "text": [
      "wfhjAdfhg\n",
      "found\n"
     ]
    }
   ],
   "source": [
    "string = input()\n",
    "pattern = '[A-Z]+[a-z]+$'\n",
    "match=re.search(pattern,string)\n",
    "if match:\n",
    "    print(\"found\")\n",
    "else:\n",
    "    print(\"not found\")"
   ]
  },
  {
   "cell_type": "code",
   "execution_count": 45,
   "id": "8cfa73b5",
   "metadata": {},
   "outputs": [],
   "source": [
    "#9) Write a Python program that matches a string that has an 'a' followed by anything, ending in 'b'."
   ]
  },
  {
   "cell_type": "code",
   "execution_count": 54,
   "id": "4a911a3e",
   "metadata": {},
   "outputs": [
    {
     "name": "stdout",
     "output_type": "stream",
     "text": [
      "afdjhgleib\n",
      "found\n"
     ]
    }
   ],
   "source": [
    "string = input()\n",
    "pattern = '^a+[a-zA-z0-9]+b$'\n",
    "match=re.search(pattern,string)\n",
    "if match:\n",
    "    print(\"found\")\n",
    "else:\n",
    "    print(\"not found\")"
   ]
  },
  {
   "cell_type": "code",
   "execution_count": 53,
   "id": "2945ea2c",
   "metadata": {},
   "outputs": [],
   "source": [
    "#10) Write a Python program that matches a word at the beginning of a string."
   ]
  },
  {
   "cell_type": "code",
   "execution_count": 55,
   "id": "045b8e8f",
   "metadata": {},
   "outputs": [
    {
     "name": "stdout",
     "output_type": "stream",
     "text": [
      "The horse\n",
      "found\n"
     ]
    }
   ],
   "source": [
    "string = input()\n",
    "pattern = '^\\w+'\n",
    "match=re.search(pattern,string)\n",
    "if match:\n",
    "    print(\"found\")\n",
    "else:\n",
    "    print(\"not found\")"
   ]
  },
  {
   "cell_type": "code",
   "execution_count": 56,
   "id": "bd6e6a75",
   "metadata": {},
   "outputs": [],
   "source": [
    "#11) Write a Python program that matches a word at the end of string, with optional punctuation."
   ]
  },
  {
   "cell_type": "code",
   "execution_count": 58,
   "id": "667eea1f",
   "metadata": {},
   "outputs": [
    {
     "name": "stdout",
     "output_type": "stream",
     "text": [
      "eufalfa     efhl   \n",
      "not found\n"
     ]
    }
   ],
   "source": [
    "string = input()\n",
    "pattern = '\\w+\\s*$'\n",
    "match=re.search(pattern,string)\n",
    "if match:\n",
    "    print(\"found\")\n",
    "else:\n",
    "    print(\"not found\")"
   ]
  },
  {
   "cell_type": "code",
   "execution_count": 59,
   "id": "8a42f35f",
   "metadata": {},
   "outputs": [],
   "source": [
    "#12) Write a Python program that matches a word containing 'z'\n",
    "\n"
   ]
  },
  {
   "cell_type": "code",
   "execution_count": 61,
   "id": "a61d26ff",
   "metadata": {},
   "outputs": [
    {
     "name": "stdout",
     "output_type": "stream",
     "text": [
      "askjfghswf fh f a fhalaifu\n",
      "not found\n"
     ]
    }
   ],
   "source": [
    "string = input()\n",
    "pattern = 'z'\n",
    "match=re.search(pattern,string)\n",
    "if match:\n",
    "    print(\"found\")\n",
    "else:\n",
    "    print(\"not found\")"
   ]
  },
  {
   "cell_type": "code",
   "execution_count": 62,
   "id": "ccc5666f",
   "metadata": {},
   "outputs": [],
   "source": [
    "#13) Write a Python program that matches a word containing 'z', not at the start or end of the word."
   ]
  },
  {
   "cell_type": "code",
   "execution_count": 67,
   "id": "2bbcddd6",
   "metadata": {},
   "outputs": [
    {
     "name": "stdout",
     "output_type": "stream",
     "text": [
      "jskdghawoffz.wlfhswilg\n",
      "found\n"
     ]
    }
   ],
   "source": [
    "string = input()\n",
    "pattern = '\\w+z.+\\w'\n",
    "match=re.search(pattern,string)\n",
    "if match:\n",
    "    print(\"found\")\n",
    "else:\n",
    "    print(\"not found\")"
   ]
  },
  {
   "cell_type": "code",
   "execution_count": 68,
   "id": "c9695283",
   "metadata": {},
   "outputs": [],
   "source": [
    "#14) Write a Python program to match a string that contains only upper and lowercase letters, numbers, and underscores."
   ]
  },
  {
   "cell_type": "code",
   "execution_count": 74,
   "id": "777d8dbd",
   "metadata": {},
   "outputs": [
    {
     "name": "stdout",
     "output_type": "stream",
     "text": [
      "the rangers gound rjwgbd\n",
      "not found\n"
     ]
    }
   ],
   "source": [
    "string = input()\n",
    "pattern = re.compile('^[A-Za-z0-9_]*$')\n",
    "match=pattern.search(string)\n",
    "if match:\n",
    "    print(\"found\")\n",
    "else:\n",
    "    print(\"not found\")"
   ]
  },
  {
   "cell_type": "code",
   "execution_count": 75,
   "id": "be425617",
   "metadata": {},
   "outputs": [
    {
     "name": "stdout",
     "output_type": "stream",
     "text": [
      "Not matched!\n",
      "Found a match!\n"
     ]
    }
   ],
   "source": [
    "def text_match(text):\n",
    "        patterns = '^[a-zA-Z0-9_]*$'\n",
    "        if re.search(patterns,  text):\n",
    "                return 'Found a match!'\n",
    "        else:\n",
    "                return('Not matched!')\n",
    "\n",
    "print(text_match(\"The quick brown fox jumps over the lazy dog.\"))\n",
    "print(text_match(\"Python_Exercises_1\"))"
   ]
  },
  {
   "cell_type": "code",
   "execution_count": 76,
   "id": "9a532b41",
   "metadata": {},
   "outputs": [],
   "source": [
    "#15) Write a Python program where a string will start with a specific number."
   ]
  },
  {
   "cell_type": "code",
   "execution_count": 78,
   "id": "28e64c9a",
   "metadata": {},
   "outputs": [
    {
     "name": "stdout",
     "output_type": "stream",
     "text": [
      "6-hfslh\n",
      "not found\n"
     ]
    }
   ],
   "source": [
    "string = input()\n",
    "pattern = '^5'\n",
    "match=re.search(pattern,string)\n",
    "if match:\n",
    "    print(\"found\")\n",
    "else:\n",
    "    print(\"not found\")"
   ]
  },
  {
   "cell_type": "code",
   "execution_count": 79,
   "id": "15641ff6",
   "metadata": {},
   "outputs": [],
   "source": [
    "#16) Write a Python program to remove leading zeros from an IP address"
   ]
  },
  {
   "cell_type": "code",
   "execution_count": 28,
   "id": "29c521cc",
   "metadata": {},
   "outputs": [
    {
     "name": "stdout",
     "output_type": "stream",
     "text": [
      "216.08.094.196\n",
      "##############\n"
     ]
    }
   ],
   "source": [
    "string = input()\n",
    "pattern = '\\.[0]*'\n",
    "match=re.sub(pattern,'#',string)\n",
    "print(match)"
   ]
  },
  {
   "cell_type": "code",
   "execution_count": 30,
   "id": "1a1cdcaa",
   "metadata": {},
   "outputs": [
    {
     "name": "stdout",
     "output_type": "stream",
     "text": [
      "216.8.94.196\n"
     ]
    }
   ],
   "source": [
    "ip = \"216.08.094.196\"\n",
    "string = re.sub('\\.[0]*', '.', ip)\n",
    "print(string)"
   ]
  },
  {
   "cell_type": "code",
   "execution_count": 83,
   "id": "b41d45a3",
   "metadata": {},
   "outputs": [],
   "source": [
    "#17) Write a Python program to check for a number at the end of a string."
   ]
  },
  {
   "cell_type": "code",
   "execution_count": 87,
   "id": "f82265b2",
   "metadata": {},
   "outputs": [
    {
     "name": "stdout",
     "output_type": "stream",
     "text": [
      "5\n",
      "found\n"
     ]
    }
   ],
   "source": [
    "string = input()\n",
    "pattern = '[0-9]$'\n",
    "match=re.search(pattern,string)\n",
    "if match:\n",
    "    print(\"found\")\n",
    "else:\n",
    "    print(\"not found\")"
   ]
  },
  {
   "cell_type": "code",
   "execution_count": 88,
   "id": "8b4a2a21",
   "metadata": {},
   "outputs": [],
   "source": [
    "#18) Write a Python program to search the numbers (0-9) of length between 1 to 3 in a given string."
   ]
  },
  {
   "cell_type": "code",
   "execution_count": 3,
   "id": "09756ce4",
   "metadata": {},
   "outputs": [
    {
     "name": "stdout",
     "output_type": "stream",
     "text": [
      "ihwfiwuf5678\n",
      "567\n"
     ]
    }
   ],
   "source": [
    "string = input()\n",
    "pattern = '([0-9]{1,3})'\n",
    "match=re.search(pattern,string)\n",
    "print(match.group())"
   ]
  },
  {
   "cell_type": "code",
   "execution_count": 91,
   "id": "2bccdc27",
   "metadata": {},
   "outputs": [
    {
     "name": "stdout",
     "output_type": "stream",
     "text": [
      "Found \"fox\" in \"The quick brown fox jumps over the lazy dog.\" from 16 to 19 \n"
     ]
    }
   ],
   "source": [
    "# Solution\n",
    "pattern = 'fox'\n",
    "text = 'The quick brown fox jumps over the lazy dog.'\n",
    "match = re.search(pattern, text)\n",
    "s = match.start()\n",
    "e = match.end()\n",
    "print('Found \"%s\" in \"%s\" from %d to %d ' % (match.re.pattern, match.string, s, e))"
   ]
  },
  {
   "cell_type": "code",
   "execution_count": 6,
   "id": "3b4e608a",
   "metadata": {},
   "outputs": [
    {
     "name": "stdout",
     "output_type": "stream",
     "text": [
      "fox\n",
      "dog\n"
     ]
    }
   ],
   "source": [
    "patterns = [ 'fox', 'dog', 'horse' ]\n",
    "text = 'The quick brown fox jumps over the lazy dog.'\n",
    "for word in patterns:\n",
    "    if re.search(word,text):\n",
    "        print(word)\n",
    "    else:\n",
    "        continue\n"
   ]
  },
  {
   "cell_type": "code",
   "execution_count": 9,
   "id": "ddf22ffa",
   "metadata": {},
   "outputs": [
    {
     "name": "stdout",
     "output_type": "stream",
     "text": [
      "16\n",
      "19\n"
     ]
    }
   ],
   "source": [
    "pattern='fox'\n",
    "text='The quick brown fox jumps over the lazy dog.'\n",
    "match=re.search(pattern,text)\n",
    "print(match.start())\n",
    "print(match.end())\n"
   ]
  },
  {
   "cell_type": "code",
   "execution_count": 10,
   "id": "8c4544ba",
   "metadata": {},
   "outputs": [
    {
     "name": "stdout",
     "output_type": "stream",
     "text": [
      "['exercises', 'exercises', 'exercises']\n"
     ]
    }
   ],
   "source": [
    "text = 'Python exercises, PHP exercises, C# exercises'\n",
    "pattern = 'exercises'\n",
    "match=re.findall(pattern,text)\n",
    "print(match)"
   ]
  },
  {
   "cell_type": "code",
   "execution_count": 13,
   "id": "5309f0d7",
   "metadata": {},
   "outputs": [
    {
     "name": "stdout",
     "output_type": "stream",
     "text": [
      "7\n",
      "16\n",
      "exercises\n",
      "22\n",
      "31\n",
      "exercises\n",
      "36\n",
      "45\n",
      "exercises\n"
     ]
    }
   ],
   "source": [
    "text = 'Python exercises, PHP exercises, C# exercises'\n",
    "pattern = 'exercises'\n",
    "for match in re.finditer(pattern,text):\n",
    "    print(match.start())\n",
    "    print(match.end())\n",
    "    print(match.group())\n",
    "    "
   ]
  },
  {
   "cell_type": "code",
   "execution_count": 14,
   "id": "fa96ac9e",
   "metadata": {},
   "outputs": [],
   "source": [
    "#23) Write a Python program to replace whitespaces with an underscore and vice versa."
   ]
  },
  {
   "cell_type": "code",
   "execution_count": 16,
   "id": "6ba77193",
   "metadata": {},
   "outputs": [
    {
     "name": "stdout",
     "output_type": "stream",
     "text": [
      "a_b_c_d_e_f\n"
     ]
    }
   ],
   "source": [
    "string='a_b c_d e_f'\n",
    "match=re.sub('_',' ',string)\n",
    "match=re.sub(' ','_',string)\n",
    "print(match)"
   ]
  },
  {
   "cell_type": "code",
   "execution_count": null,
   "id": "d0200551",
   "metadata": {},
   "outputs": [],
   "source": [
    "#24) Write a Python program to extract year, month and date from a an url."
   ]
  },
  {
   "cell_type": "code",
   "execution_count": 34,
   "id": "0fa497e8",
   "metadata": {},
   "outputs": [
    {
     "name": "stdout",
     "output_type": "stream",
     "text": [
      "2016/09/02\n"
     ]
    }
   ],
   "source": [
    "url1= \"https://www.washingtonpost.com/news/football-insider/wp/2016/09/02/odell-beckhams-fame-rests-on-\\\n",
    "one-stupid-little-ball-josh-norman-tells-author/\"\n",
    "pattern=\"[0-9]{4}/[0-9]{2}/[0-9]{2}\"\n",
    "match=re.search(pattern,url1)\n",
    "print(match.group())"
   ]
  },
  {
   "cell_type": "code",
   "execution_count": 33,
   "id": "76b6303c",
   "metadata": {},
   "outputs": [
    {
     "name": "stdout",
     "output_type": "stream",
     "text": [
      "we\n"
     ]
    }
   ],
   "source": [
    "s='      we'\n",
    "pattern='\\s*'\n",
    "match=re.sub(pattern,'',s)\n",
    "print(match)\n"
   ]
  },
  {
   "cell_type": "code",
   "execution_count": null,
   "id": "9e5501b7",
   "metadata": {},
   "outputs": [],
   "source": []
  }
 ],
 "metadata": {
  "kernelspec": {
   "display_name": "Python 3 (ipykernel)",
   "language": "python",
   "name": "python3"
  },
  "language_info": {
   "codemirror_mode": {
    "name": "ipython",
    "version": 3
   },
   "file_extension": ".py",
   "mimetype": "text/x-python",
   "name": "python",
   "nbconvert_exporter": "python",
   "pygments_lexer": "ipython3",
   "version": "3.9.12"
  }
 },
 "nbformat": 4,
 "nbformat_minor": 5
}
