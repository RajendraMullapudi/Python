{
 "cells": [
  {
   "cell_type": "code",
   "execution_count": 1,
   "id": "2a16c664",
   "metadata": {},
   "outputs": [],
   "source": [
    "import numpy as np\n"
   ]
  },
  {
   "cell_type": "code",
   "execution_count": 8,
   "id": "724377ef",
   "metadata": {},
   "outputs": [
    {
     "name": "stdout",
     "output_type": "stream",
     "text": [
      "(3, 4)\n",
      "[[[1 2 3]]\n",
      "\n",
      " [[4 5 2]]\n",
      "\n",
      " [[4 2 1]]\n",
      "\n",
      " [[2 0 1]]]\n"
     ]
    }
   ],
   "source": [
    "#reshape\n",
    "\n",
    "\n",
    "arr_shape = np.array([[1, 2, 3, 4],\n",
    "                [5, 2, 4, 2],\n",
    "                [1, 2, 0, 1]])\n",
    "print(arr_shape.shape)\n",
    "arr=arr_shape\n",
    "newarr = arr.reshape(4,1,3)\n",
    "print(newarr)"
   ]
  },
  {
   "cell_type": "code",
   "execution_count": 12,
   "id": "cff06b24",
   "metadata": {},
   "outputs": [
    {
     "name": "stdout",
     "output_type": "stream",
     "text": [
      "[[1 2 3]\n",
      " [4 2 5]\n",
      " [6 7 8]]\n",
      "<class 'numpy.ndarray'>\n",
      "2\n",
      "(3, 3)\n",
      "9\n",
      "int32\n",
      "[[0. 0. 0. 0.]\n",
      " [0. 0. 0. 0.]\n",
      " [0. 0. 0. 0.]]\n",
      "[[6.+0.j 6.+0.j 6.+0.j]\n",
      " [6.+0.j 6.+0.j 6.+0.j]\n",
      " [6.+0.j 6.+0.j 6.+0.j]]\n",
      "[[0.97017663 0.64236815]\n",
      " [0.93935434 0.80168728]]\n",
      "[ 0  2  4  6  8 10 12 14 16 18 20 22 24 26 28]\n",
      "[ 0.   2.5  5.   7.5 10. ]\n"
     ]
    }
   ],
   "source": [
    "arr = np.array( [[ 1, 2, 3],\n",
    "                 [ 4, 2, 5],\n",
    "                 [6,7,8]] )\n",
    "print(arr)\n",
    "print(type(arr))\n",
    "print(arr.ndim)\n",
    "print(arr.shape)\n",
    "print(arr.size)\n",
    "print(arr.dtype)\n",
    "\n",
    "#creating zeros with fixed size\n",
    "\n",
    "arr_fixed=np.zeros((3,4))\n",
    "print(arr_fixed)\n",
    "\n",
    "comp_lex=np.full((3,3),\n",
    "                 6, dtype=complex)\n",
    "print(comp_lex)\n",
    "\n",
    "rand=np.random.random((2,2))\n",
    "print(rand)\n",
    "\n",
    "seq_arr=np.arange(0,30,2)\n",
    "print(seq_arr)\n",
    "\n",
    "g=np.linspace(0,10,5)\n",
    "print(g)\n"
   ]
  },
  {
   "cell_type": "code",
   "execution_count": 15,
   "id": "6f9131e4",
   "metadata": {},
   "outputs": [],
   "source": [
    "#convert to flatten array"
   ]
  },
  {
   "cell_type": "code",
   "execution_count": 16,
   "id": "409ba7a5",
   "metadata": {},
   "outputs": [
    {
     "name": "stdout",
     "output_type": "stream",
     "text": [
      "[1 2 3 4 5 6]\n"
     ]
    }
   ],
   "source": [
    "arr = np.array([[1, 2, 3], [4, 5, 6]])\n",
    "flat_arr=arr.flatten()\n",
    "print(flat_arr)\n"
   ]
  },
  {
   "cell_type": "code",
   "execution_count": 17,
   "id": "5c54bdd9",
   "metadata": {},
   "outputs": [],
   "source": [
    "#accessing with slicing "
   ]
  },
  {
   "cell_type": "code",
   "execution_count": 14,
   "id": "16383ea1",
   "metadata": {},
   "outputs": [
    {
     "name": "stdout",
     "output_type": "stream",
     "text": [
      "[[0. 4.]\n",
      " [7. 8.]]\n"
     ]
    }
   ],
   "source": [
    "arr = np.array([[-1, 2, 0, 4],\n",
    "                [4, -0.5, 6, 0],\n",
    "                [2.6, 0, 7, 8],\n",
    "                [3, -7, 4, 2.0]])\n",
    "temp=arr[::2, 2:]\n",
    "print(temp)"
   ]
  },
  {
   "cell_type": "code",
   "execution_count": 17,
   "id": "9f74b20d",
   "metadata": {},
   "outputs": [
    {
     "name": "stdout",
     "output_type": "stream",
     "text": [
      "6.0\n",
      "[4. 6. 0. 3.]\n"
     ]
    }
   ],
   "source": [
    "# Integer array indexing example\n",
    "temp = arr[[0, 1, 2, 3], [3, 2, 1, 0]]\n",
    "t=arr[1,2]\n",
    "print(t)\n",
    "print(temp)"
   ]
  },
  {
   "cell_type": "code",
   "execution_count": 33,
   "id": "dd5ab9fd",
   "metadata": {},
   "outputs": [
    {
     "name": "stdout",
     "output_type": "stream",
     "text": [
      "[6. 7. 8.]\n"
     ]
    }
   ],
   "source": [
    "condition=arr>5\n",
    "temp=arr[condition]\n",
    "print(temp)"
   ]
  },
  {
   "cell_type": "code",
   "execution_count": 34,
   "id": "5df0794d",
   "metadata": {},
   "outputs": [],
   "source": [
    "#1. Operations on a single NumPy array"
   ]
  },
  {
   "cell_type": "code",
   "execution_count": 43,
   "id": "03868852",
   "metadata": {},
   "outputs": [
    {
     "name": "stdout",
     "output_type": "stream",
     "text": [
      "[2 3 6 4]\n",
      "[-2 -1  2  0]\n",
      "[4 5 8 6]\n",
      "[10 20 50 30]\n",
      "[ 1  4 25  9]\n",
      "[ 2  4 10  6]\n",
      "[ 2  4 10  6]\n"
     ]
    }
   ],
   "source": [
    "a = np.array([1, 2, 5, 3])\n",
    "b=a^2\n",
    "#print(b)\n",
    "print(a+1)\n",
    "print(a-3)\n",
    "print(a+3)\n",
    "print(a*10)\n",
    "print(a**2)\n",
    "print(a*2)\n",
    "a*=2\n",
    "print(a)\n"
   ]
  },
  {
   "cell_type": "code",
   "execution_count": 18,
   "id": "8556b605",
   "metadata": {},
   "outputs": [
    {
     "name": "stdout",
     "output_type": "stream",
     "text": [
      "[[1 3 9]\n",
      " [2 4 6]\n",
      " [3 5 0]]\n"
     ]
    }
   ],
   "source": [
    "a = np.array([[1, 2, 3], [3, 4, 5], [9, 6, 0]])\n",
    "print(a.T)\n"
   ]
  },
  {
   "cell_type": "code",
   "execution_count": 19,
   "id": "484bd4c2",
   "metadata": {},
   "outputs": [
    {
     "name": "stdout",
     "output_type": "stream",
     "text": [
      "[[1 2 3]\n",
      " [3 4 5]\n",
      " [9 6 0]]\n",
      "[3 5 9]\n",
      "[1 3 0]\n"
     ]
    }
   ],
   "source": [
    "print(a)\n",
    "print(a.max(axis=1))\n",
    "print(a.min(axis=1))"
   ]
  },
  {
   "cell_type": "code",
   "execution_count": 48,
   "id": "213fd706",
   "metadata": {},
   "outputs": [
    {
     "name": "stdout",
     "output_type": "stream",
     "text": [
      "[3 5 9]\n"
     ]
    }
   ],
   "source": [
    "print(a.max(axis=1))"
   ]
  },
  {
   "cell_type": "code",
   "execution_count": 62,
   "id": "21efb9c6",
   "metadata": {},
   "outputs": [
    {
     "name": "stdout",
     "output_type": "stream",
     "text": [
      "[[5 5]\n",
      " [5 5]]\n",
      "[[-3 -1]\n",
      " [ 1  3]]\n",
      "[[4 6]\n",
      " [6 4]]\n",
      "[[ 8  5]\n",
      " [20 13]]\n"
     ]
    }
   ],
   "source": [
    "a = np.array([[1, 2],\n",
    "            [3, 4]])\n",
    "b = np.array([[4, 3],\n",
    "            [2, 1]])\n",
    "print(a+b)\n",
    "print(a-b)\n",
    "print(a*b)\n",
    "print(a.dot(b))"
   ]
  },
  {
   "cell_type": "code",
   "execution_count": 64,
   "id": "de24023b",
   "metadata": {},
   "outputs": [
    {
     "name": "stdout",
     "output_type": "stream",
     "text": [
      "[0.89399666 0.         0.        ]\n"
     ]
    }
   ],
   "source": [
    "a=np.array([90,0,0])\n",
    "print(np.sin(a))"
   ]
  },
  {
   "cell_type": "code",
   "execution_count": 20,
   "id": "f4fee73c",
   "metadata": {},
   "outputs": [
    {
     "name": "stdout",
     "output_type": "stream",
     "text": [
      "[[ 1  4  2]\n",
      " [ 3  4  6]\n",
      " [ 0 -1  5]]\n",
      "[[ 0 -1  2]\n",
      " [ 1  4  5]\n",
      " [ 3  4  6]]\n"
     ]
    }
   ],
   "source": [
    "a = np.array([[1, 4, 2],\n",
    "                 [3, 4, 6],\n",
    "              [0, -1, 5]])\n",
    "print(a)\n",
    "print(np.sort(a,axis=0))"
   ]
  },
  {
   "cell_type": "code",
   "execution_count": 21,
   "id": "4a7bd735",
   "metadata": {},
   "outputs": [
    {
     "name": "stdout",
     "output_type": "stream",
     "text": [
      "2\n",
      "[[ 6  7  8]\n",
      " [11 12 13]\n",
      " [16 17 18]]\n"
     ]
    }
   ],
   "source": [
    "arr1 = np.array([1, 2, 3])\n",
    "arr2 = np.array([[5], [10], [15]])\n",
    "print(arr2.ndim)\n",
    "result = arr1 + arr2\n",
    "print(result)"
   ]
  },
  {
   "cell_type": "code",
   "execution_count": 76,
   "id": "a0727abd",
   "metadata": {},
   "outputs": [
    {
     "name": "stdout",
     "output_type": "stream",
     "text": [
      "[     1      9    225 217156]\n"
     ]
    }
   ],
   "source": [
    "arr1 = [1, -3, 15, -466]\n",
    "print (np.square(arr1))"
   ]
  },
  {
   "cell_type": "code",
   "execution_count": 78,
   "id": "60450952",
   "metadata": {},
   "outputs": [
    {
     "name": "stdout",
     "output_type": "stream",
     "text": [
      "Graphical Representation : \n",
      " [25.         15.12345679  7.71604938  2.77777778  0.30864198  0.30864198\n",
      "  2.77777778  7.71604938 15.12345679 25.        ]\n"
     ]
    },
    {
     "data": {
      "image/png": "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\n",
      "text/plain": [
       "<Figure size 432x288 with 1 Axes>"
      ]
     },
     "metadata": {
      "needs_background": "light"
     },
     "output_type": "display_data"
    }
   ],
   "source": [
    "import numpy as np\n",
    "import matplotlib.pyplot as plt\n",
    " \n",
    "a = np.linspace(start = -5, stop = 5,\n",
    "                num = 10, endpoint = True)\n",
    "                 \n",
    "print(\"Graphical Representation : \\n\", np.square(a))\n",
    " \n",
    "plt.title(\"blue : with square\\nred : without square\")\n",
    "plt.plot(a, np.square(a))\n",
    " \n",
    "plt.plot(a, a, color = 'red')\n",
    "plt.show()"
   ]
  },
  {
   "cell_type": "code",
   "execution_count": 79,
   "id": "1547df57",
   "metadata": {},
   "outputs": [
    {
     "name": "stdout",
     "output_type": "stream",
     "text": [
      "[[1 2 3]\n",
      " [4 5 6]]\n"
     ]
    }
   ],
   "source": [
    "import numpy as np\n",
    "\n",
    "# input array\n",
    "a = np.array([1, 2, 3])\n",
    "b = np.array([4, 5, 6])\n",
    "\n",
    "# Stacking 2 1-d arrays\n",
    "c = np.stack((a, b),axis=0)\n",
    "print(c)\n"
   ]
  },
  {
   "cell_type": "code",
   "execution_count": 80,
   "id": "a1685930",
   "metadata": {},
   "outputs": [
    {
     "name": "stdout",
     "output_type": "stream",
     "text": [
      "[[1 4]\n",
      " [2 5]\n",
      " [3 6]]\n"
     ]
    }
   ],
   "source": [
    "c=np.stack((a,b),axis=1)\n",
    "print(c)"
   ]
  },
  {
   "cell_type": "code",
   "execution_count": 81,
   "id": "ece3fd4c",
   "metadata": {},
   "outputs": [
    {
     "name": "stdout",
     "output_type": "stream",
     "text": [
      "[[1 2 3]\n",
      " [4 5 6]]\n"
     ]
    }
   ],
   "source": [
    "print(c.T)"
   ]
  },
  {
   "cell_type": "code",
   "execution_count": 86,
   "id": "fd5b7fff",
   "metadata": {},
   "outputs": [
    {
     "name": "stdout",
     "output_type": "stream",
     "text": [
      "1st Input array : \n",
      " [1 2 3]\n",
      "2nd Input array : \n",
      " [4 5 6]\n",
      "Output vertically stacked array:\n",
      "  [[1 2 3]\n",
      " [4 5 6]]\n"
     ]
    }
   ],
   "source": [
    "# Python program explaining \n",
    "# vstack() function \n",
    "\n",
    "import numpy as geek \n",
    "\n",
    "# input array \n",
    "in_arr1 = geek.array([ 1, 2, 3] ) \n",
    "print (\"1st Input array : \\n\", in_arr1) \n",
    "\n",
    "in_arr2 = geek.array([ 4, 5, 6] ) \n",
    "print (\"2nd Input array : \\n\", in_arr2) \n",
    "\n",
    "# Stacking the two arrays vertically \n",
    "out_arr = geek.stack((in_arr1, in_arr2)) \n",
    "print (\"Output vertically stacked array:\\n \", out_arr) \n"
   ]
  },
  {
   "cell_type": "code",
   "execution_count": 89,
   "id": "0ccc2b67",
   "metadata": {},
   "outputs": [
    {
     "name": "stdout",
     "output_type": "stream",
     "text": [
      "[[ 6  8]\n",
      " [10 12]]\n"
     ]
    }
   ],
   "source": [
    "import numpy as np \n",
    "\n",
    "array_1 = np.array([[1, 2], [3, 4]]) \n",
    "array_2 = np.array([[5, 6], [7, 8]]) \n",
    "\n",
    "array_new = array_1+array_2 \n",
    "print(array_new) \n"
   ]
  },
  {
   "cell_type": "code",
   "execution_count": 7,
   "id": "af900b14",
   "metadata": {},
   "outputs": [
    {
     "name": "stdout",
     "output_type": "stream",
     "text": [
      "geek array :\n",
      " [[[ 0  1  2  3]\n",
      "  [ 4  5  6  7]]\n",
      "\n",
      " [[ 8  9 10 11]\n",
      "  [12 13 14 15]]]\n",
      "120\n",
      "\n",
      "func sum : \n",
      "  [[[24 28 32 36]]]\n",
      "\n",
      "func min : \n",
      "  [[[0 1 2 3]]]\n"
     ]
    }
   ],
   "source": [
    "# Python Program illustrating \n",
    "# apply_over_axis() in NumPy \n",
    "\n",
    "import numpy as geek \n",
    "\n",
    "# Using a 3D array \n",
    "geek_array = geek.arange(16).reshape(2, 2, 4) \n",
    "print(\"geek array :\\n\", geek_array) \n",
    "print(geek_array.sum())\n",
    "# Applying pre-defined sum function over the axis of 3D array \n",
    "print(\"\\nfunc sum : \\n \", geek.apply_over_axes(geek.sum, geek_array, [1, 1, 0])) \n",
    "\n",
    "# Applying pre-defined min function over the axis of 3D array \n",
    "print(\"\\nfunc min : \\n \", geek.apply_over_axes(geek.min, geek_array, [1, 1, 0]))"
   ]
  },
  {
   "cell_type": "code",
   "execution_count": 14,
   "id": "4321a4db",
   "metadata": {},
   "outputs": [
    {
     "name": "stdout",
     "output_type": "stream",
     "text": [
      "geek array :\n",
      " [[ 0  1  2  3]\n",
      " [ 4  5  6  7]\n",
      " [ 8  9 10 11]\n",
      " [12 13 14 15]]\n",
      "\n",
      "Applying func max : \n",
      "  [[ 3]\n",
      " [ 7]\n",
      " [11]\n",
      " [15]]\n",
      "\n",
      "Applying func min : \n",
      "  [[ 0]\n",
      " [ 4]\n",
      " [ 8]\n",
      " [12]]\n",
      "\n",
      "Applying func sum : \n",
      "  [[ 6]\n",
      " [22]\n",
      " [38]\n",
      " [54]]\n"
     ]
    }
   ],
   "source": [
    "# Python Program illustrating \n",
    "# apply_over_axis() in NumPy \n",
    "\n",
    "import numpy as geek \n",
    "\n",
    "# Using a 2D array \n",
    "geek_array = geek.arange(16).reshape(4, 4) \n",
    "print(\"geek array :\\n\", geek_array) \n",
    "\n",
    "\"\"\" \n",
    "\t->[[ 0 1 2 3] min : 0\t max : 3 sum = 0 + 1 + 2 + 3 \n",
    "\t-> [ 4 5 6 7] min : 4\t max : 7 sum = 4 + 5 + 6 + 7 \n",
    "\t-> [ 8 9 10 11] min : 8\t max : 11 sum = 8 + 9 + 10 + 11 \n",
    "\t-> [12 13 14 15]] min : 12 max : 15 sum = 12 + 13 + 14 + 15 \n",
    "\n",
    "\"\"\"\n",
    "\n",
    "# Applying pre-defined min function over the axis of 2D array \n",
    "print(\"\\nApplying func max : \\n \", geek.apply_over_axes(geek.max, geek_array, [1, -1])) \n",
    "\n",
    "# Applying pre-defined min function over the axis of 2D array \n",
    "print(\"\\nApplying func min : \\n \", geek.apply_over_axes(geek.min, geek_array, [1, -1])) \n",
    "\n",
    "# Applying pre-defined sum function over the axis of 2D array \n",
    "print(\"\\nApplying func sum : \\n \", geek.apply_over_axes(geek.sum, geek_array, [1, -1])) \n"
   ]
  },
  {
   "cell_type": "code",
   "execution_count": 18,
   "id": "3c2159bb",
   "metadata": {},
   "outputs": [
    {
     "name": "stdout",
     "output_type": "stream",
     "text": [
      "Addition of Two Arrays: \n",
      "[[ 7. 13.]\n",
      " [ 4. 14.]]\n",
      "[[ 7. 13.]\n",
      " [ 4. 14.]]\n",
      "\n",
      "Addition of Array elements: \n",
      "19.0\n",
      "19.0\n",
      "\n",
      "Square root of Array1 elements: \n",
      "[[2.         2.64575131]\n",
      " [1.41421356 2.44948974]]\n",
      "\n",
      "Transpose of Array: \n",
      "[[4. 2.]\n",
      " [7. 6.]]\n"
     ]
    }
   ],
   "source": [
    "# Python Program to create\n",
    "# a data type object\n",
    "import numpy as np\n",
    " \n",
    "# First Array\n",
    "arr1 = np.array([[4, 7], [2, 6]], \n",
    "                 dtype = np.float64)\n",
    "                  \n",
    "# Second Array\n",
    "arr2 = np.array([[3, 6], [2, 8]], \n",
    "                 dtype = np.float64) \n",
    "\n",
    "# Addition of two Arrays\n",
    "Sum = np.add(arr1, arr2)\n",
    "print(\"Addition of Two Arrays: \")\n",
    "print(Sum)\n",
    "print(arr1+arr2)\n",
    " \n",
    "# Addition of all Array elements\n",
    "# using predefined sum method\n",
    "Sum1 = np.sum(arr1)\n",
    "print(\"\\nAddition of Array elements: \")\n",
    "print(Sum1)\n",
    "print(arr1.sum())\n",
    " \n",
    "# Square root of Array\n",
    "Sqrt = np.sqrt(arr1)\n",
    "print(\"\\nSquare root of Array1 elements: \")\n",
    "print(Sqrt)\n",
    " \n",
    "# Transpose of Array\n",
    "# using In-built function 'T'\n",
    "Trans_arr = arr1.T\n",
    "print(\"\\nTranspose of Array: \")\n",
    "print(Trans_arr)\n"
   ]
  },
  {
   "cell_type": "code",
   "execution_count": 42,
   "id": "10760a4a",
   "metadata": {},
   "outputs": [
    {
     "name": "stdout",
     "output_type": "stream",
     "text": [
      "leg1 array : \n",
      " [[0.63188446 0.51380424 0.75641922 0.72493916]\n",
      " [0.14302412 0.6893445  0.12657763 0.00150883]\n",
      " [0.7903872  0.05580388 0.14622572 0.13559589]]\n",
      "leg2 array : \n",
      " [[1. 1. 1. 1.]\n",
      " [1. 1. 1. 1.]\n",
      " [1. 1. 1. 1.]]\n",
      "\n",
      "Hypotenuse is as follows :\n",
      "[[1.1829108  1.12427523 1.25386205 1.23512622]\n",
      " [1.01017617 1.2145764  1.00797911 1.00000114]\n",
      " [1.27464188 1.00155583 1.01063444 1.00915125]]\n",
      "[[1 1 1 1]\n",
      " [1 1 1 1]\n",
      " [1 1 1 1]]\n"
     ]
    }
   ],
   "source": [
    "# Python3 program explaining \n",
    "# hypot() function \n",
    "\n",
    "import numpy as np \n",
    "\n",
    "leg1= np.random.rand(3, 4) \n",
    "#leg1=np.array(leg,dtype=np.int64)\n",
    "print (\"leg1 array : \\n\", leg1) \n",
    "\n",
    "leg2 = np.ones((3, 4)) \n",
    "print (\"leg2 array : \\n\", leg2) \n",
    "\n",
    "result = np.hypot(leg1, leg2) \n",
    "print(\"\\nHypotenuse is as follows :\") \n",
    "print(result) \n",
    "res=np.ones_like(result,dtype=np.int64)\n",
    "print(res)"
   ]
  },
  {
   "cell_type": "code",
   "execution_count": 47,
   "id": "13d35c1b",
   "metadata": {},
   "outputs": [
    {
     "name": "stdout",
     "output_type": "stream",
     "text": [
      "Original array : \n",
      " [[0 1]\n",
      " [2 3]\n",
      " [4 5]\n",
      " [6 7]\n",
      " [8 9]]\n"
     ]
    },
    {
     "ename": "TypeError",
     "evalue": "array() got an unexpected keyword argument 'axis'",
     "output_type": "error",
     "traceback": [
      "\u001b[1;31m---------------------------------------------------------------------------\u001b[0m",
      "\u001b[1;31mTypeError\u001b[0m                                 Traceback (most recent call last)",
      "Input \u001b[1;32mIn [47]\u001b[0m, in \u001b[0;36m<cell line: 8>\u001b[1;34m()\u001b[0m\n\u001b[0;32m      6\u001b[0m array1 \u001b[38;5;241m=\u001b[39m geek\u001b[38;5;241m.\u001b[39marange(\u001b[38;5;241m10\u001b[39m)\u001b[38;5;241m.\u001b[39mreshape(\u001b[38;5;241m5\u001b[39m, \u001b[38;5;241m2\u001b[39m) \n\u001b[0;32m      7\u001b[0m \u001b[38;5;28mprint\u001b[39m(\u001b[38;5;124m\"\u001b[39m\u001b[38;5;124mOriginal array : \u001b[39m\u001b[38;5;130;01m\\n\u001b[39;00m\u001b[38;5;124m\"\u001b[39m, array) \n\u001b[1;32m----> 8\u001b[0m arr\u001b[38;5;241m=\u001b[39m\u001b[43mnp\u001b[49m\u001b[38;5;241;43m.\u001b[39;49m\u001b[43marray\u001b[49m\u001b[43m(\u001b[49m\u001b[43marray1\u001b[49m\u001b[43m,\u001b[49m\u001b[43maxis\u001b[49m\u001b[38;5;241;43m=\u001b[39;49m\u001b[38;5;241;43m0\u001b[39;49m\u001b[43m)\u001b[49m\n\u001b[0;32m      9\u001b[0m \u001b[38;5;28mprint\u001b[39m(arr)\n\u001b[0;32m     11\u001b[0m \u001b[38;5;124;03m'''b = geek.ones_like(array, float) \u001b[39;00m\n\u001b[0;32m     12\u001b[0m \u001b[38;5;124;03mprint(\"\\nMatrix b : \\n\", b) '''\u001b[39;00m\n",
      "\u001b[1;31mTypeError\u001b[0m: array() got an unexpected keyword argument 'axis'"
     ]
    }
   ],
   "source": [
    "# Python Programming illustrating \n",
    "# numpy.ones_like method \n",
    "\n",
    "import numpy as geek \n",
    "\n",
    "array1 = geek.arange(10).reshape(5, 2) \n",
    "print(\"Original array : \\n\", array) \n",
    "arr=np.array(array1,axis=0)\n",
    "print(arr)\n",
    "\n",
    "'''b = geek.ones_like(array, float) \n",
    "print(\"\\nMatrix b : \\n\", b) '''\n",
    "\n",
    "array = geek.arange(8) \n",
    "c = geek.ones_like(array) \n",
    "print(\"\\nMatrix c : \\n\", c) \n"
   ]
  },
  {
   "cell_type": "code",
   "execution_count": 50,
   "id": "e3cc61bf",
   "metadata": {},
   "outputs": [
    {
     "name": "stdout",
     "output_type": "stream",
     "text": [
      "Largest element is: 9\n",
      "Row-wise maximum elements: [6 7 9]\n"
     ]
    }
   ],
   "source": [
    "arr = np.array([[1, 5, 6],\n",
    "                [4, 7, 2],\n",
    "                [3, 1, 9]])\n",
    "\n",
    "# maximum element of array\n",
    "print (\"Largest element is:\", arr.max())\n",
    "print (\"Row-wise maximum elements:\",\n",
    "                    arr.max(axis = 1))"
   ]
  },
  {
   "cell_type": "code",
   "execution_count": 56,
   "id": "5bd42d29",
   "metadata": {},
   "outputs": [
    {
     "name": "stdout",
     "output_type": "stream",
     "text": [
      "[16 17 18]\n",
      "diagflat use on main diagonal : \n",
      " [[1 0]\n",
      " [0 7]] \n",
      "\n",
      "diagflat use on main diagonal : \n",
      " [[1 0 0]\n",
      " [0 7 0]\n",
      " [0 0 6]] \n",
      "\n",
      "diagflat above main diagonal : \n",
      " [[0 1 0 0]\n",
      " [0 0 7 0]\n",
      " [0 0 0 6]\n",
      " [0 0 0 0]] \n",
      "\n"
     ]
    }
   ],
   "source": [
    "# Python Program illustrating\n",
    "# numpy.diagflat method\n",
    "\n",
    "import numpy as geek\n",
    "arr=geek.arange(12).reshape(4,3)\n",
    "arr=geek.diagflat([16,17,18])\n",
    "print(geek.diag(arr))\n",
    "print(\"diagflat use on main diagonal : \\n\", geek.diagflat([1, 7]), \"\\n\")\n",
    "\n",
    "print(\"diagflat use on main diagonal : \\n\", geek.diagflat([1, 7, 6]), \"\\n\")\n",
    "\n",
    "# Diagonal above main diagonal\n",
    "print(\"diagflat above main diagonal : \\n\", geek.diagflat([1, 7, 6], 1), \"\\n\")\n"
   ]
  },
  {
   "cell_type": "code",
   "execution_count": 2,
   "id": "6bb71602",
   "metadata": {},
   "outputs": [
    {
     "name": "stdout",
     "output_type": "stream",
     "text": [
      "Not equal : \n",
      " [ True False] \n",
      "\n",
      "Not equal : \n",
      " [[ True False]\n",
      " [ True False]] \n",
      "\n",
      "Is a greater than b :  [False False]\n"
     ]
    }
   ],
   "source": [
    "# Python Program illustrating \n",
    "# numpy.greater() method \n",
    "\n",
    "import numpy as geek \n",
    "\n",
    "a = geek.greater([8., 2.], [5., 3.]) \n",
    "print(\"Not equal : \\n\", a, \"\\n\") \n",
    "\n",
    "b = geek.greater([2, 2], [[1, 3],[1, 4]]) \n",
    "print(\"Not equal : \\n\", b, \"\\n\") \n",
    "\n",
    "a = geek.array([4,2]) \n",
    "b = geek.array([6,2]) \n",
    "\n",
    "print(\"Is a greater than b : \", a > b) \n"
   ]
  },
  {
   "cell_type": "code",
   "execution_count": 5,
   "id": "0a53734c",
   "metadata": {},
   "outputs": [
    {
     "name": "stdout",
     "output_type": "stream",
     "text": [
      "[[1 2 3]]\n"
     ]
    }
   ],
   "source": [
    "# importing the python module numpy \n",
    "import numpy as np \n",
    "\n",
    "# Making a random array \n",
    "gfg = np.array([1, 2, 3, 4, 5, 6]) \n",
    "\n",
    "# Reshape the array permanently \n",
    "gfg.resize(1, 3) \n",
    "\n",
    "print(gfg) \n"
   ]
  },
  {
   "cell_type": "code",
   "execution_count": 26,
   "id": "c3b924db",
   "metadata": {},
   "outputs": [
    {
     "name": "stdout",
     "output_type": "stream",
     "text": [
      "[1. 2. 3.]\n"
     ]
    }
   ],
   "source": [
    "arr=np.array([1,2.8,3])\n",
    "print(np.floor(arr))"
   ]
  },
  {
   "cell_type": "code",
   "execution_count": 28,
   "id": "ab13bfda",
   "metadata": {},
   "outputs": [
    {
     "name": "stdout",
     "output_type": "stream",
     "text": [
      "Sorted as per axis 1 : \n",
      " [[1 7 8]\n",
      " [3 4 9]\n",
      " [2 5 6]]\n",
      "\n",
      "\n",
      "Sorted as per axis 0 : \n",
      " [[4 1 6]\n",
      " [5 2 7]\n",
      " [8 3 9]]\n"
     ]
    }
   ],
   "source": [
    "# Python Program illustrating\n",
    "# apply_along_axis() in NumPy\n",
    "\n",
    "import numpy as geek \n",
    "\n",
    "geek_array = geek.array([[8,1,7],\n",
    "\t\t\t\t\t\t[4,3,9],\n",
    "\t\t\t\t\t\t[5,2,6]])\n",
    "\n",
    "# using pre-defined sorted function as 1D_func\n",
    "print(\"Sorted as per axis 1 : \\n\", geek.apply_along_axis(sorted, 1, geek_array))\n",
    "\n",
    "print(\"\\n\")\n",
    "\n",
    "print(\"Sorted as per axis 0 : \\n\", geek.apply_along_axis(sorted, 0, geek_array))\n"
   ]
  },
  {
   "cell_type": "code",
   "execution_count": 36,
   "id": "a28dce5a",
   "metadata": {},
   "outputs": [
    {
     "name": "stdout",
     "output_type": "stream",
     "text": [
      "geek array :\n",
      " [[[ 0  1  2  3]\n",
      "  [ 4  5  6  7]]\n",
      "\n",
      " [[ 8  9 10 11]\n",
      "  [12 13 14 15]]]\n",
      "3\n",
      "\n",
      "func sum : \n",
      "  [[[24 28 32 36]]]\n",
      "\n",
      "func min : \n",
      "  [[[0 1 2 3]]]\n"
     ]
    }
   ],
   "source": [
    "# Python Program illustrating \n",
    "# apply_over_axis() in NumPy \n",
    "\n",
    "import numpy as geek \n",
    "\n",
    "# Using a 3D array \n",
    "geek_array = geek.arange(16).reshape(2, 2, 4) \n",
    "print(\"geek array :\\n\", geek_array) \n",
    "print(geek_array.ndim)\n",
    "# Applying pre-defined sum function over the axis of 3D array \n",
    "print(\"\\nfunc sum : \\n \", geek.apply_over_axes(geek.sum, geek_array, [1,1,0])) \n",
    "\n",
    "# Applying pre-defined min function over the axis of 3D array \n",
    "print(\"\\nfunc min : \\n \", geek.apply_over_axes(geek.min, geek_array, [1, 1, 1\n",
    "                                                                     ])) \n"
   ]
  },
  {
   "cell_type": "code",
   "execution_count": null,
   "id": "5f37b4b8",
   "metadata": {},
   "outputs": [],
   "source": []
  }
 ],
 My anme is rajendra
 "metadata": {
  "kernelspec": {
   "display_name": "Python 3 (ipykernel)",
   "language": "python",
   "name": "python3"
  },
  "language_info": {
   "codemirror_mode": {
    "name": "ipython",
    "version": 3
   },
   "file_extension": ".py",
   "mimetype": "text/x-python",
   "name": "python",
   "nbconvert_exporter": "python",
   "pygments_lexer": "ipython3",
   "version": "3.9.12"
  }
 },
 "nbformat": 4,
 "nbformat_minor": 5
}
